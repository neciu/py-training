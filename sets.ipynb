{
 "cells": [
  {
   "cell_type": "code",
   "execution_count": null,
   "metadata": {},
   "outputs": [],
   "source": [
    "# Simple operations\n",
    "\n",
    "my_set = set()\n",
    "my_other_set = {1, 2}\n",
    "\n",
    "# this wouldn't work\n",
    "# my_set = {}\n",
    "\n",
    "my_set.add(1)\n",
    "my_set.add(1)\n",
    "my_set.update({1, 2, 3})\n",
    "my_set.remove(2)\n",
    "\n",
    "print(my_set)"
   ]
  },
  {
   "cell_type": "code",
   "execution_count": null,
   "metadata": {},
   "outputs": [],
   "source": [
    "# Useful operations\n",
    "left = {1, 2}\n",
    "right = {2, 3}\n",
    "\n",
    "assert 1 in left\n",
    "assert left == {2, 1}\n",
    "assert left & right == {2}\n",
    "assert left ^ right == {1, 3}\n",
    "assert left - right == {1}"
   ]
  },
  {
   "cell_type": "code",
   "execution_count": null,
   "metadata": {},
   "outputs": [],
   "source": [
    "# Task\n",
    "\n",
    "# random - helper\n",
    "import random\n",
    "random_day = random.randint(0, 356)\n",
    "\n",
    "# create a set with 30 random days of year. Check how many were dupicates"
   ]
  },
  {
   "cell_type": "code",
   "execution_count": null,
   "metadata": {},
   "outputs": [],
   "source": [
    "# Task\n",
    "import random\n",
    "random_list = [random.randint(0, 100) for _ in range(100)]\n",
    "\n",
    "# create an ordered list without duplicates\n",
    "\n",
    "# the same, but preserve the original order"
   ]
  }
 ],
 "metadata": {
  "kernelspec": {
   "display_name": "Python 3",
   "language": "python",
   "name": "python3"
  },
  "language_info": {
   "codemirror_mode": {
    "name": "ipython",
    "version": 3
   },
   "file_extension": ".py",
   "mimetype": "text/x-python",
   "name": "python",
   "nbconvert_exporter": "python",
   "pygments_lexer": "ipython3",
   "version": "3.7.4"
  }
 },
 "nbformat": 4,
 "nbformat_minor": 2
}
