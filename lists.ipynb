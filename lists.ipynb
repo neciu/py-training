{
 "cells": [
  {
   "cell_type": "code",
   "execution_count": null,
   "metadata": {},
   "outputs": [],
   "source": [
    "# creating a list\n",
    "\n",
    "empty_list = list()\n",
    "print(empty_list)\n",
    "\n",
    "other_empty_list = []\n",
    "print(other_empty_list)\n",
    "\n",
    "print([1, 2, 3])"
   ]
  },
  {
   "cell_type": "code",
   "execution_count": null,
   "metadata": {},
   "outputs": [],
   "source": [
    "# removing\n",
    "\n",
    "my_list = []\n",
    "\n",
    "my_list.append(1)\n",
    "my_list.append(2)\n",
    "my_list.append(3)\n",
    "\n",
    "del my_list[1]\n",
    "my_list.remove(1)\n",
    "\n",
    "my_list"
   ]
  },
  {
   "cell_type": "code",
   "execution_count": null,
   "metadata": {},
   "outputs": [],
   "source": [
    "# iterating over a list\n",
    "my_list = [1, 2, 3]\n",
    "\n",
    "for elem in range(1, 4):\n",
    "    assert elem in my_list\n"
   ]
  },
  {
   "cell_type": "code",
   "execution_count": null,
   "metadata": {},
   "outputs": [],
   "source": [
    "squares = []\n",
    "\n",
    "for item in range(0, 10):\n",
    "    squares.append(item ** 2)\n",
    "    \n",
    "print(squares)"
   ]
  },
  {
   "cell_type": "code",
   "execution_count": null,
   "metadata": {},
   "outputs": [],
   "source": [
    "# no type assigned to the list\n",
    "my_list = [\"hello\", None, 0]\n",
    "print(my_list)\n",
    "\n",
    "# length\n",
    "len(my_list)"
   ]
  },
  {
   "cell_type": "code",
   "execution_count": null,
   "metadata": {},
   "outputs": [],
   "source": [
    "# sorted\n",
    "my_list = [-1, 0, -2, 3]\n",
    "\n",
    "assert sorted(my_list) == [-2, -1, 0, 3]\n",
    "\n",
    "# copying a list\n",
    "my_copy = list(my_list)\n",
    "\n",
    "# sort in place\n",
    "my_list.sort()\n",
    "\n",
    "assert my_list == [-2, -1, 0, 3]\n",
    "assert my_copy != my_list"
   ]
  },
  {
   "cell_type": "code",
   "execution_count": null,
   "metadata": {},
   "outputs": [],
   "source": [
    "# unpacking\n",
    "a, b = [1, 2,]\n",
    "\n",
    "print(f\"a = {a}, b = {b}\")"
   ]
  },
  {
   "cell_type": "code",
   "execution_count": null,
   "metadata": {},
   "outputs": [],
   "source": [
    "# subset\n",
    "\n",
    "my_list = [-1, 2, 1]\n",
    "\n",
    "assert my_list[1] == 2\n",
    "assert my_list[0:1] == [-1]\n",
    "assert my_list[2:] == [1]\n",
    "assert my_list[::2] == [-1, 1]"
   ]
  },
  {
   "cell_type": "code",
   "execution_count": null,
   "metadata": {},
   "outputs": [],
   "source": [
    "# extending UserList\n",
    "import collections\n",
    "\n",
    "class OddOnlyList(collections.UserList):\n",
    "    def append(self, item):\n",
    "        if item % 2 == 0:\n",
    "            super().append(item)\n",
    "\n",
    "l = MyList()\n",
    "\n",
    "l.append(2)\n",
    "l.append(1)\n",
    "l.append(3)\n",
    "\n",
    "l[0] = 1\n",
    "\n",
    "l"
   ]
  },
  {
   "cell_type": "code",
   "execution_count": null,
   "metadata": {},
   "outputs": [],
   "source": [
    "# files helpers\n",
    "import pathlib\n",
    "\n",
    "current_dir = pathlib.Path('lists.ipynb')\n",
    "print(current_dir.exists(), current_dir.stat().st_size)"
   ]
  },
  {
   "cell_type": "code",
   "execution_count": null,
   "metadata": {},
   "outputs": [],
   "source": [
    "# Task\n",
    "import collections\n",
    "\n",
    "class FilesList(collections.UserList):\n",
    "    def append(self, item):\n",
    "        super().append(item)\n",
    "\n",
    "    def __setitem__(self, i, item):\n",
    "        super().__setitem__(i, item)\n",
    "    \n",
    "    def size(self):\n",
    "        pass\n",
    "\n",
    "        \n",
    "files = FilesList()\n",
    "\n",
    "files.append('.')\n",
    "files.append('no_such_file')\n",
    "\n",
    "assert files.size() > 0\n",
    "assert len(files) == 1"
   ]
  }
 ],
 "metadata": {
  "kernelspec": {
   "display_name": "Python 3",
   "language": "python",
   "name": "python3"
  },
  "language_info": {
   "codemirror_mode": {
    "name": "ipython",
    "version": 3
   },
   "file_extension": ".py",
   "mimetype": "text/x-python",
   "name": "python",
   "nbconvert_exporter": "python",
   "pygments_lexer": "ipython3",
   "version": "3.7.4"
  }
 },
 "nbformat": 4,
 "nbformat_minor": 2
}
