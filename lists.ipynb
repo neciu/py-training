{
 "cells": [
  {
   "cell_type": "code",
   "execution_count": 137,
   "metadata": {},
   "outputs": [
    {
     "name": "stdout",
     "output_type": "stream",
     "text": [
      "[]\n",
      "[]\n",
      "[1, 2, 3]\n"
     ]
    }
   ],
   "source": [
    "# creating a list\n",
    "\n",
    "empty_list = list()\n",
    "print(empty_list)\n",
    "\n",
    "other_empty_list = []\n",
    "print(other_empty_list)\n",
    "\n",
    "print([1, 2, 3])"
   ]
  },
  {
   "cell_type": "code",
   "execution_count": 138,
   "metadata": {},
   "outputs": [
    {
     "data": {
      "text/plain": [
       "[3]"
      ]
     },
     "execution_count": 138,
     "metadata": {},
     "output_type": "execute_result"
    }
   ],
   "source": [
    "# removing\n",
    "\n",
    "my_list = []\n",
    "\n",
    "my_list.append(1)\n",
    "my_list.append(2)\n",
    "my_list.append(3)\n",
    "\n",
    "del my_list[1]\n",
    "my_list.remove(1)\n",
    "\n",
    "my_list"
   ]
  },
  {
   "cell_type": "code",
   "execution_count": 139,
   "metadata": {},
   "outputs": [],
   "source": [
    "# iterating over a list\n",
    "my_list = [1, 2, 3]\n",
    "\n",
    "for elem in range(1, 4):\n",
    "    assert elem in my_list\n"
   ]
  },
  {
   "cell_type": "code",
   "execution_count": 140,
   "metadata": {},
   "outputs": [
    {
     "name": "stdout",
     "output_type": "stream",
     "text": [
      "[0, 1, 4, 9, 16, 25, 36, 49, 64, 81]\n"
     ]
    }
   ],
   "source": [
    "squares = []\n",
    "\n",
    "for item in range(0, 10):\n",
    "    squares.append(item ** 2)\n",
    "    \n",
    "print(squares)"
   ]
  },
  {
   "cell_type": "code",
   "execution_count": 141,
   "metadata": {},
   "outputs": [
    {
     "name": "stdout",
     "output_type": "stream",
     "text": [
      "['hello', None, 0]\n"
     ]
    },
    {
     "data": {
      "text/plain": [
       "3"
      ]
     },
     "execution_count": 141,
     "metadata": {},
     "output_type": "execute_result"
    }
   ],
   "source": [
    "# no type assigned to the list\n",
    "my_list = [\"hello\", None, 0]\n",
    "print(my_list)\n",
    "\n",
    "# length\n",
    "len(my_list)"
   ]
  },
  {
   "cell_type": "code",
   "execution_count": 143,
   "metadata": {},
   "outputs": [],
   "source": [
    "# sorted\n",
    "my_list = [-1, 0, -2, 3]\n",
    "\n",
    "assert sorted(my_list) == [-2, -1, 0, 3]\n",
    "\n",
    "# copying a list\n",
    "my_copy = list(my_list)\n",
    "\n",
    "# sort in place\n",
    "my_list.sort()\n",
    "\n",
    "assert my_list == [-2, -1, 0, 3]\n",
    "assert my_copy != my_list"
   ]
  },
  {
   "cell_type": "code",
   "execution_count": 144,
   "metadata": {},
   "outputs": [
    {
     "name": "stdout",
     "output_type": "stream",
     "text": [
      "a = 1, b = 2\n"
     ]
    }
   ],
   "source": [
    "# unpacking\n",
    "a, b = [1, 2,]\n",
    "\n",
    "print(f\"a = {a}, b = {b}\")"
   ]
  },
  {
   "cell_type": "code",
   "execution_count": 145,
   "metadata": {},
   "outputs": [],
   "source": [
    "# subset\n",
    "\n",
    "my_list = [-1, 2, 1]\n",
    "\n",
    "assert my_list[1] == 2\n",
    "assert my_list[0:1] == [-1]\n",
    "assert my_list[2:] == [1]\n",
    "assert my_list[::2] == [-1, 1]"
   ]
  },
  {
   "cell_type": "code",
   "execution_count": 146,
   "metadata": {},
   "outputs": [
    {
     "data": {
      "text/plain": [
       "[1]"
      ]
     },
     "execution_count": 146,
     "metadata": {},
     "output_type": "execute_result"
    }
   ],
   "source": [
    "# extending UserList\n",
    "import collections\n",
    "\n",
    "class OddOnlyList(collections.UserList):\n",
    "    def append(self, item):\n",
    "        if item % 2 == 0:\n",
    "            super().append(item)\n",
    "\n",
    "l = MyList()\n",
    "\n",
    "l.append(2)\n",
    "l.append(1)\n",
    "l.append(3)\n",
    "\n",
    "l[0] = 1\n",
    "\n",
    "l"
   ]
  },
  {
   "cell_type": "code",
   "execution_count": 147,
   "metadata": {},
   "outputs": [
    {
     "name": "stdout",
     "output_type": "stream",
     "text": [
      "True 6842\n"
     ]
    }
   ],
   "source": [
    "# files helpers\n",
    "import pathlib\n",
    "\n",
    "current_dir = pathlib.Path('lists.ipynb')\n",
    "print(current_dir.exists(), current_dir.stat().st_size)"
   ]
  },
  {
   "cell_type": "code",
   "execution_count": 148,
   "metadata": {},
   "outputs": [
    {
     "ename": "TypeError",
     "evalue": "'>' not supported between instances of 'NoneType' and 'int'",
     "output_type": "error",
     "traceback": [
      "\u001b[0;31m---------------------------------------------------------------------------\u001b[0m",
      "\u001b[0;31mTypeError\u001b[0m                                 Traceback (most recent call last)",
      "\u001b[0;32m<ipython-input-148-cf9be4216636>\u001b[0m in \u001b[0;36m<module>\u001b[0;34m\u001b[0m\n\u001b[1;32m     18\u001b[0m \u001b[0mfiles\u001b[0m\u001b[0;34m.\u001b[0m\u001b[0mappend\u001b[0m\u001b[0;34m(\u001b[0m\u001b[0;34m'no_such_file'\u001b[0m\u001b[0;34m)\u001b[0m\u001b[0;34m\u001b[0m\u001b[0;34m\u001b[0m\u001b[0m\n\u001b[1;32m     19\u001b[0m \u001b[0;34m\u001b[0m\u001b[0m\n\u001b[0;32m---> 20\u001b[0;31m \u001b[0;32massert\u001b[0m \u001b[0mfiles\u001b[0m\u001b[0;34m.\u001b[0m\u001b[0msize\u001b[0m\u001b[0;34m(\u001b[0m\u001b[0;34m)\u001b[0m \u001b[0;34m>\u001b[0m \u001b[0;36m0\u001b[0m\u001b[0;34m\u001b[0m\u001b[0;34m\u001b[0m\u001b[0m\n\u001b[0m\u001b[1;32m     21\u001b[0m \u001b[0;32massert\u001b[0m \u001b[0mlen\u001b[0m\u001b[0;34m(\u001b[0m\u001b[0mfiles\u001b[0m\u001b[0;34m)\u001b[0m \u001b[0;34m==\u001b[0m \u001b[0;36m1\u001b[0m\u001b[0;34m\u001b[0m\u001b[0;34m\u001b[0m\u001b[0m\n",
      "\u001b[0;31mTypeError\u001b[0m: '>' not supported between instances of 'NoneType' and 'int'"
     ]
    }
   ],
   "source": [
    "# Task\n",
    "import collections\n",
    "\n",
    "class FilesList(collections.UserList):\n",
    "    def append(self, item):\n",
    "        super().append(item)\n",
    "\n",
    "    def __setitem__(self, i, item):\n",
    "        super().__setitem__(i, item)\n",
    "    \n",
    "    def size(self):\n",
    "        pass\n",
    "\n",
    "        \n",
    "files = FilesList()\n",
    "\n",
    "files.append('.')\n",
    "files.append('no_such_file')\n",
    "\n",
    "assert files.size() > 0\n",
    "assert len(files) == 1"
   ]
  }
 ],
 "metadata": {
  "kernelspec": {
   "display_name": "Python 3",
   "language": "python",
   "name": "python3"
  },
  "language_info": {
   "codemirror_mode": {
    "name": "ipython",
    "version": 3
   },
   "file_extension": ".py",
   "mimetype": "text/x-python",
   "name": "python",
   "nbconvert_exporter": "python",
   "pygments_lexer": "ipython3",
   "version": "3.7.4"
  }
 },
 "nbformat": 4,
 "nbformat_minor": 2
}
