{
 "cells": [
  {
   "cell_type": "code",
   "execution_count": 10,
   "metadata": {},
   "outputs": [
    {
     "name": "stdout",
     "output_type": "stream",
     "text": [
      "Creating the generator\n",
      "<generator object generator at 0x107495c50>\n",
      "Getting first value\n",
      "Created a generator\n",
      "1\n",
      "Getting second value\n",
      "Yielded first value\n",
      "2\n",
      "Getting third value\n",
      "Yielded second value\n"
     ]
    },
    {
     "ename": "StopIteration",
     "evalue": "",
     "output_type": "error",
     "traceback": [
      "\u001b[0;31m---------------------------------------------------------------------------\u001b[0m",
      "\u001b[0;31mStopIteration\u001b[0m                             Traceback (most recent call last)",
      "\u001b[0;32m<ipython-input-10-38beeb7fffcb>\u001b[0m in \u001b[0;36m<module>\u001b[0;34m\u001b[0m\n\u001b[1;32m     16\u001b[0m \u001b[0mprint\u001b[0m\u001b[0;34m(\u001b[0m\u001b[0mnext\u001b[0m\u001b[0;34m(\u001b[0m\u001b[0mg\u001b[0m\u001b[0;34m)\u001b[0m\u001b[0;34m)\u001b[0m\u001b[0;34m\u001b[0m\u001b[0;34m\u001b[0m\u001b[0m\n\u001b[1;32m     17\u001b[0m \u001b[0mprint\u001b[0m\u001b[0;34m(\u001b[0m\u001b[0;34m\"Getting third value\"\u001b[0m\u001b[0;34m)\u001b[0m\u001b[0;34m\u001b[0m\u001b[0;34m\u001b[0m\u001b[0m\n\u001b[0;32m---> 18\u001b[0;31m \u001b[0mprint\u001b[0m\u001b[0;34m(\u001b[0m\u001b[0mnext\u001b[0m\u001b[0;34m(\u001b[0m\u001b[0mg\u001b[0m\u001b[0;34m)\u001b[0m\u001b[0;34m)\u001b[0m\u001b[0;34m\u001b[0m\u001b[0;34m\u001b[0m\u001b[0m\n\u001b[0m",
      "\u001b[0;31mStopIteration\u001b[0m: "
     ]
    }
   ],
   "source": [
    "# lazyness\n",
    "\n",
    "def generator():\n",
    "    print(\"Created a generator\")\n",
    "    yield 1\n",
    "    print(\"Yielded first value\")\n",
    "    yield 2\n",
    "    print(\"Yielded second value\")\n",
    "    \n",
    "print(\"Creating the generator\")\n",
    "g = generator()\n",
    "print(g)\n",
    "print(\"Getting first value\")\n",
    "print(next(g))\n",
    "print(\"Getting second value\")\n",
    "print(next(g))\n",
    "print(\"Getting third value\")\n",
    "print(next(g))"
   ]
  },
  {
   "cell_type": "code",
   "execution_count": 16,
   "metadata": {},
   "outputs": [
    {
     "data": {
      "text/plain": [
       "<map at 0x109338cd0>"
      ]
     },
     "execution_count": 16,
     "metadata": {},
     "output_type": "execute_result"
    }
   ],
   "source": [
    "# known generators\n",
    "\n",
    "range(0, 2)\n",
    "\n",
    "filter(lambda x: x > 0, [1, 2, -2, -1])\n",
    "\n",
    "map(lambda x: x > 0, [1, 2, -2, -1])"
   ]
  },
  {
   "cell_type": "code",
   "execution_count": 2,
   "metadata": {},
   "outputs": [
    {
     "data": {
      "text/plain": [
       "[3, 4]"
      ]
     },
     "execution_count": 2,
     "metadata": {},
     "output_type": "execute_result"
    }
   ],
   "source": [
    "# lazy usage\n",
    "\n",
    "def generator():\n",
    "    yield 1\n",
    "    yield 2\n",
    "    \n",
    "def plus_two(g):\n",
    "    for x in g:\n",
    "        yield x + 2\n",
    "\n",
    "list(plus_two(generator()))"
   ]
  },
  {
   "cell_type": "code",
   "execution_count": 4,
   "metadata": {},
   "outputs": [
    {
     "data": {
      "text/plain": [
       "[3, 4, 5]"
      ]
     },
     "execution_count": 4,
     "metadata": {},
     "output_type": "execute_result"
    }
   ],
   "source": [
    "# interoparability\n",
    "\n",
    "def generator():\n",
    "    yield 1\n",
    "    yield 2\n",
    "    \n",
    "def plus_two(g):\n",
    "    for x in g:\n",
    "        yield x + 2\n",
    "\n",
    "list(plus_two(generator()))\n",
    "list(plus_two([1, 2, 3]))"
   ]
  },
  {
   "cell_type": "code",
   "execution_count": 6,
   "metadata": {},
   "outputs": [
    {
     "data": {
      "text/plain": [
       "[1, 2, 1, 2, 1, 2, 1, 2, 1, 2, 1, 2, 1, 2, 1, 2, 1, 2, 1, 2]"
      ]
     },
     "execution_count": 6,
     "metadata": {},
     "output_type": "execute_result"
    }
   ],
   "source": [
    "# yield from\n",
    "\n",
    "def generator():\n",
    "    yield 1\n",
    "    yield 2\n",
    "    \n",
    "def few_times():\n",
    "    for _ in range(10):\n",
    "        yield from generator()\n",
    "\n",
    "list(few_times())"
   ]
  },
  {
   "cell_type": "code",
   "execution_count": 1,
   "metadata": {},
   "outputs": [],
   "source": [
    "# Task\n",
    "\n",
    "# create the filter and map functions"
   ]
  }
 ],
 "metadata": {
  "kernelspec": {
   "display_name": "Python 3",
   "language": "python",
   "name": "python3"
  },
  "language_info": {
   "codemirror_mode": {
    "name": "ipython",
    "version": 3
   },
   "file_extension": ".py",
   "mimetype": "text/x-python",
   "name": "python",
   "nbconvert_exporter": "python",
   "pygments_lexer": "ipython3",
   "version": "3.7.4"
  }
 },
 "nbformat": 4,
 "nbformat_minor": 2
}
