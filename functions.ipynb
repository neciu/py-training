{
 "cells": [
  {
   "cell_type": "code",
   "execution_count": null,
   "metadata": {},
   "outputs": [],
   "source": [
    "# simple function\n",
    "def my_function(argument, keyword_argument=None):\n",
    "    return {\n",
    "        'arg': argument,\n",
    "        'kwarg': keyword_argument,\n",
    "    }\n",
    "\n",
    "print(my_function(1))\n",
    "print(my_function(1, 2))\n",
    "print(my_function(1, keyword_argument=3))"
   ]
  },
  {
   "cell_type": "code",
   "execution_count": null,
   "metadata": {},
   "outputs": [],
   "source": [
    "# watch out for the keyword defaults\n",
    "def add_if_odd(i, numbers=[]):\n",
    "    if i % 2 != 0:\n",
    "        numbers.append(i)\n",
    "\n",
    "    return numbers\n",
    "\n",
    "print(add_if_odd(1, [1, 2, 3]))\n",
    "print(add_if_odd(1, [1, 2, 3]))\n",
    "print(add_if_odd(1))\n",
    "print(add_if_odd(2))"
   ]
  },
  {
   "cell_type": "code",
   "execution_count": null,
   "metadata": {},
   "outputs": [],
   "source": [
    "# Docstrings\n",
    "\n",
    "def my_function():\n",
    "    \"Here's a little bit of help\"\n",
    "\n",
    "help(my_function)"
   ]
  },
  {
   "cell_type": "code",
   "execution_count": null,
   "metadata": {},
   "outputs": [],
   "source": [
    "# Functions as arguments\n",
    "def is_odd(number):\n",
    "    return number %2 != 0\n",
    "\n",
    "def filter_by_condition(condition, collection):\n",
    "    results = []\n",
    "    \n",
    "    for i in collection:\n",
    "        if condition(i):\n",
    "            results.append(i)\n",
    "    \n",
    "    return results\n",
    "\n",
    "assert filter_by_condition(is_odd, [1, 2, 3, 4]) == [1, 3]\n"
   ]
  },
  {
   "cell_type": "code",
   "execution_count": null,
   "metadata": {},
   "outputs": [],
   "source": [
    "# nested functions\n",
    "def is_odd(number):\n",
    "    return number %2 != 0\n",
    "\n",
    "def filter_by_condition(condition):\n",
    "    def filter_function(collection):\n",
    "        results = []\n",
    "    \n",
    "        for i in collection:\n",
    "            if condition(i):\n",
    "                results.append(i)\n",
    "    \n",
    "        return results\n",
    "    return filter_function\n",
    "\n",
    "is_odd_filter = filter_by_condition(is_odd)\n",
    "\n",
    "assert is_odd_filter( [1, 2, 3, 4]) == [1, 3]"
   ]
  },
  {
   "cell_type": "code",
   "execution_count": null,
   "metadata": {},
   "outputs": [],
   "source": [
    "# functools - partial\n",
    "from functools import partial\n",
    "\n",
    "limit = partial(min, 10)\n",
    "limit(100)"
   ]
  },
  {
   "cell_type": "code",
   "execution_count": null,
   "metadata": {},
   "outputs": [],
   "source": [
    "from functools import singledispatch"
   ]
  },
  {
   "cell_type": "code",
   "execution_count": null,
   "metadata": {},
   "outputs": [],
   "source": [
    "# Task\n",
    "\n",
    "# create a jammed disc effect. No loops, ifs, etx allowed\n",
    "# more difficult: no \"def\" allowed\n",
    "\n",
    "import functools\n",
    "import itertools\n",
    "import operator\n",
    "import string\n",
    "\n",
    "def loop(s):\n",
    "    pass\n",
    "       \n",
    "\n",
    "result = loop('Let me say hello and goodbye at the same time')\n",
    "print(result)\n",
    "\n",
    "assert result == ['hello and goodbye hello and goodbye hello and goodbye hello']"
   ]
  }
 ],
 "metadata": {
  "kernelspec": {
   "display_name": "Python 3",
   "language": "python",
   "name": "python3"
  },
  "language_info": {
   "codemirror_mode": {
    "name": "ipython",
    "version": 3
   },
   "file_extension": ".py",
   "mimetype": "text/x-python",
   "name": "python",
   "nbconvert_exporter": "python",
   "pygments_lexer": "ipython3",
   "version": "3.7.4"
  }
 },
 "nbformat": 4,
 "nbformat_minor": 2
}
